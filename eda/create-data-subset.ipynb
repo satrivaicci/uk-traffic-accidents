{
 "cells": [
  {
   "cell_type": "code",
   "execution_count": 1,
   "id": "1feecedb-91a7-4e69-95ff-0039644c24bb",
   "metadata": {},
   "outputs": [],
   "source": [
    "import pandas as pd\n",
    "import os"
   ]
  },
  {
   "cell_type": "code",
   "execution_count": 2,
   "id": "da6f29b7-2ebd-4550-8cbd-8e129e3afc92",
   "metadata": {},
   "outputs": [],
   "source": [
    "# steps to reduce original csv size from 1GB to less than 100MB"
   ]
  },
  {
   "cell_type": "code",
   "execution_count": 3,
   "id": "418d250b-5c7f-4c54-a4dd-a0b31da7caf4",
   "metadata": {},
   "outputs": [
    {
     "data": {
      "text/plain": [
       "(2845342, 47)"
      ]
     },
     "execution_count": 3,
     "metadata": {},
     "output_type": "execute_result"
    }
   ],
   "source": [
    "# read original file\n",
    "df = pd.read_csv('../assets/US_Accidents_Dec21_updated.csv')\n",
    "df.shape"
   ]
  },
  {
   "cell_type": "code",
   "execution_count": 4,
   "id": "299507b1-a767-428c-b878-fe7247d33832",
   "metadata": {},
   "outputs": [
    {
     "data": {
      "text/html": [
       "<div>\n",
       "<style scoped>\n",
       "    .dataframe tbody tr th:only-of-type {\n",
       "        vertical-align: middle;\n",
       "    }\n",
       "\n",
       "    .dataframe tbody tr th {\n",
       "        vertical-align: top;\n",
       "    }\n",
       "\n",
       "    .dataframe thead th {\n",
       "        text-align: right;\n",
       "    }\n",
       "</style>\n",
       "<table border=\"1\" class=\"dataframe\">\n",
       "  <thead>\n",
       "    <tr style=\"text-align: right;\">\n",
       "      <th></th>\n",
       "      <th>Severity</th>\n",
       "      <th>Start_Time</th>\n",
       "      <th>City</th>\n",
       "      <th>State</th>\n",
       "      <th>Visibility(mi)</th>\n",
       "      <th>Wind_Speed(mph)</th>\n",
       "      <th>Precipitation(in)</th>\n",
       "      <th>Weather_Condition</th>\n",
       "      <th>Sunrise_Sunset</th>\n",
       "    </tr>\n",
       "  </thead>\n",
       "  <tbody>\n",
       "    <tr>\n",
       "      <th>0</th>\n",
       "      <td>3</td>\n",
       "      <td>2016-02-08 00:37:08</td>\n",
       "      <td>Dublin</td>\n",
       "      <td>OH</td>\n",
       "      <td>10.0</td>\n",
       "      <td>10.4</td>\n",
       "      <td>0.00</td>\n",
       "      <td>Light Rain</td>\n",
       "      <td>Night</td>\n",
       "    </tr>\n",
       "    <tr>\n",
       "      <th>1</th>\n",
       "      <td>2</td>\n",
       "      <td>2016-02-08 05:56:20</td>\n",
       "      <td>Dayton</td>\n",
       "      <td>OH</td>\n",
       "      <td>10.0</td>\n",
       "      <td>NaN</td>\n",
       "      <td>0.02</td>\n",
       "      <td>Light Rain</td>\n",
       "      <td>Night</td>\n",
       "    </tr>\n",
       "    <tr>\n",
       "      <th>2</th>\n",
       "      <td>2</td>\n",
       "      <td>2016-02-08 06:15:39</td>\n",
       "      <td>Cincinnati</td>\n",
       "      <td>OH</td>\n",
       "      <td>10.0</td>\n",
       "      <td>NaN</td>\n",
       "      <td>0.02</td>\n",
       "      <td>Overcast</td>\n",
       "      <td>Night</td>\n",
       "    </tr>\n",
       "    <tr>\n",
       "      <th>3</th>\n",
       "      <td>2</td>\n",
       "      <td>2016-02-08 06:51:45</td>\n",
       "      <td>Akron</td>\n",
       "      <td>OH</td>\n",
       "      <td>10.0</td>\n",
       "      <td>NaN</td>\n",
       "      <td>NaN</td>\n",
       "      <td>Overcast</td>\n",
       "      <td>Night</td>\n",
       "    </tr>\n",
       "    <tr>\n",
       "      <th>4</th>\n",
       "      <td>3</td>\n",
       "      <td>2016-02-08 07:53:43</td>\n",
       "      <td>Cincinnati</td>\n",
       "      <td>OH</td>\n",
       "      <td>10.0</td>\n",
       "      <td>10.4</td>\n",
       "      <td>0.01</td>\n",
       "      <td>Light Rain</td>\n",
       "      <td>Day</td>\n",
       "    </tr>\n",
       "  </tbody>\n",
       "</table>\n",
       "</div>"
      ],
      "text/plain": [
       "   Severity           Start_Time        City State  Visibility(mi)  \\\n",
       "0         3  2016-02-08 00:37:08      Dublin    OH            10.0   \n",
       "1         2  2016-02-08 05:56:20      Dayton    OH            10.0   \n",
       "2         2  2016-02-08 06:15:39  Cincinnati    OH            10.0   \n",
       "3         2  2016-02-08 06:51:45       Akron    OH            10.0   \n",
       "4         3  2016-02-08 07:53:43  Cincinnati    OH            10.0   \n",
       "\n",
       "   Wind_Speed(mph)  Precipitation(in) Weather_Condition Sunrise_Sunset  \n",
       "0             10.4               0.00        Light Rain          Night  \n",
       "1              NaN               0.02        Light Rain          Night  \n",
       "2              NaN               0.02          Overcast          Night  \n",
       "3              NaN                NaN          Overcast          Night  \n",
       "4             10.4               0.01        Light Rain            Day  "
      ]
     },
     "execution_count": 4,
     "metadata": {},
     "output_type": "execute_result"
    }
   ],
   "source": [
    "# creating a data subset\n",
    "small_df = df[['Severity', \n",
    "               'Start_Time', \n",
    "               'City', \n",
    "               'State', \n",
    "               'Visibility(mi)', \n",
    "               'Wind_Speed(mph)', \n",
    "               'Precipitation(in)', \n",
    "               'Weather_Condition', \n",
    "               'Sunrise_Sunset']].copy()\n",
    "small_df.head()"
   ]
  },
  {
   "cell_type": "code",
   "execution_count": 5,
   "id": "d30bf46e-0fe2-48b6-81a3-1d6acb32297f",
   "metadata": {},
   "outputs": [
    {
     "data": {
      "text/plain": [
       "array(['Night', 'Day', nan], dtype=object)"
      ]
     },
     "execution_count": 5,
     "metadata": {},
     "output_type": "execute_result"
    }
   ],
   "source": [
    "# unique sunrise sunset\n",
    "small_df.Sunrise_Sunset.unique()"
   ]
  },
  {
   "cell_type": "code",
   "execution_count": 6,
   "id": "7eedb1e5-8319-4050-b9bf-c4bd49501941",
   "metadata": {},
   "outputs": [
    {
     "data": {
      "text/plain": [
       "array(['N', 'D', nan], dtype=object)"
      ]
     },
     "execution_count": 6,
     "metadata": {},
     "output_type": "execute_result"
    }
   ],
   "source": [
    "# transform value to D (Day) and N (Night) to reduce size\n",
    "def transformNightDay(value):\n",
    "    if value == 'Night':\n",
    "        return 'N'\n",
    "    elif value == 'Day':\n",
    "        return 'D'\n",
    "    else:\n",
    "        return value\n",
    "\n",
    "small_df['Sunrise_Sunset'] = small_df['Sunrise_Sunset'].apply(transformNightDay)\n",
    "small_df.Sunrise_Sunset.unique()"
   ]
  },
  {
   "cell_type": "code",
   "execution_count": 7,
   "id": "09a5d56d-790f-49f6-8231-ed2df181601e",
   "metadata": {},
   "outputs": [
    {
     "data": {
      "text/plain": [
       "array([2016, 2017, 2021, 2020, 2018, 2019])"
      ]
     },
     "execution_count": 7,
     "metadata": {},
     "output_type": "execute_result"
    }
   ],
   "source": [
    "# adding year column\n",
    "def getYear(startTime):\n",
    "    return int(startTime[0:4])\n",
    "\n",
    "small_df['Year'] = small_df['Start_Time'].apply(getYear)\n",
    "\n",
    "# printing unique years\n",
    "small_df.Year.unique()"
   ]
  },
  {
   "cell_type": "code",
   "execution_count": 8,
   "id": "b2dbf60a-74c4-4633-aa6c-15582cf209c4",
   "metadata": {},
   "outputs": [
    {
     "name": "stdout",
     "output_type": "stream",
     "text": [
      "['Severity', 'City', 'State', 'Visibility(mi)', 'Wind_Speed(mph)', 'Precipitation(in)', 'Weather_Condition', 'Sunrise_Sunset', 'Year']\n"
     ]
    }
   ],
   "source": [
    "# removing start_time column\n",
    "\n",
    "small_df.drop(columns=['Start_Time'], inplace=True)\n",
    "print(list(small_df.columns))"
   ]
  },
  {
   "cell_type": "code",
   "execution_count": 9,
   "id": "8631cc65-dd06-435c-96ba-b97f12f00c30",
   "metadata": {},
   "outputs": [
    {
     "name": "stdout",
     "output_type": "stream",
     "text": [
      "(2845342, 9)\n",
      "(2137609, 9)\n"
     ]
    },
    {
     "data": {
      "text/plain": [
       "array([2021, 2020])"
      ]
     },
     "execution_count": 9,
     "metadata": {},
     "output_type": "execute_result"
    }
   ],
   "source": [
    "# removing years to reduce csv size\n",
    "print(small_df.shape)\n",
    "small_df = small_df[small_df['Year'] > 2019]\n",
    "print(small_df.shape)\n",
    "small_df.Year.unique()"
   ]
  },
  {
   "cell_type": "code",
   "execution_count": 10,
   "id": "c82d71af-4d63-4441-bbeb-2d80856ea203",
   "metadata": {},
   "outputs": [
    {
     "data": {
      "text/plain": [
       "90811054"
      ]
     },
     "execution_count": 10,
     "metadata": {},
     "output_type": "execute_result"
    }
   ],
   "source": [
    "# saving reduced csv\n",
    "small_df.to_csv('../assets/US_Accidents_Dec21_small.csv', index=False)\n",
    "os.path.getsize('../assets/US_Accidents_Dec21_small.csv')"
   ]
  },
  {
   "cell_type": "code",
   "execution_count": null,
   "id": "ab8ab620-b712-4d25-a17a-6c9d15c9139a",
   "metadata": {},
   "outputs": [],
   "source": []
  }
 ],
 "metadata": {
  "kernelspec": {
   "display_name": "default:Python",
   "language": "python",
   "name": "conda-env-default-py"
  },
  "language_info": {
   "codemirror_mode": {
    "name": "ipython",
    "version": 3
   },
   "file_extension": ".py",
   "mimetype": "text/x-python",
   "name": "python",
   "nbconvert_exporter": "python",
   "pygments_lexer": "ipython3",
   "version": "3.9.13"
  }
 },
 "nbformat": 4,
 "nbformat_minor": 5
}

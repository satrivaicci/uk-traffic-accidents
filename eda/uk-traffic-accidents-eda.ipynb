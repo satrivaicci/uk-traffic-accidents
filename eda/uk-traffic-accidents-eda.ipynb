{
 "cells": [
  {
   "cell_type": "code",
   "execution_count": 1,
   "id": "04dbf5b4-d61d-4bcf-8c79-c32b065ae2a9",
   "metadata": {},
   "outputs": [],
   "source": [
    "import pandas as pd\n",
    "import plotly.graph_objs as go"
   ]
  },
  {
   "cell_type": "code",
   "execution_count": 2,
   "id": "6efd3873-3d89-43d2-94f3-6f7765cdb554",
   "metadata": {},
   "outputs": [
    {
     "data": {
      "text/plain": [
       "(1048575, 14)"
      ]
     },
     "execution_count": 2,
     "metadata": {},
     "output_type": "execute_result"
    }
   ],
   "source": [
    "# read in the data\n",
    "df = pd.read_csv('../assets/uk-traffic-accidents-columns.csv')\n",
    "df.shape"
   ]
  },
  {
   "cell_type": "code",
   "execution_count": 3,
   "id": "d884d113-bb69-4026-afb2-317da34e80a7",
   "metadata": {},
   "outputs": [
    {
     "data": {
      "text/html": [
       "<div>\n",
       "<style scoped>\n",
       "    .dataframe tbody tr th:only-of-type {\n",
       "        vertical-align: middle;\n",
       "    }\n",
       "\n",
       "    .dataframe tbody tr th {\n",
       "        vertical-align: top;\n",
       "    }\n",
       "\n",
       "    .dataframe thead th {\n",
       "        text-align: right;\n",
       "    }\n",
       "</style>\n",
       "<table border=\"1\" class=\"dataframe\">\n",
       "  <thead>\n",
       "    <tr style=\"text-align: right;\">\n",
       "      <th></th>\n",
       "      <th>Accident_Index</th>\n",
       "      <th>Accident_Severity</th>\n",
       "      <th>Date</th>\n",
       "      <th>Day_of_Week</th>\n",
       "      <th>Light_Conditions</th>\n",
       "      <th>Number_of_Casualties</th>\n",
       "      <th>Number_of_Vehicles</th>\n",
       "      <th>Pedestrian_Crossing-Human_Control</th>\n",
       "      <th>Pedestrian_Crossing-Physical_Facilities</th>\n",
       "      <th>Road_Surface_Conditions</th>\n",
       "      <th>Speed_limit</th>\n",
       "      <th>Time</th>\n",
       "      <th>Weather_Conditions</th>\n",
       "      <th>Year</th>\n",
       "    </tr>\n",
       "  </thead>\n",
       "  <tbody>\n",
       "    <tr>\n",
       "      <th>0</th>\n",
       "      <td>200501BS00001</td>\n",
       "      <td>Serious</td>\n",
       "      <td>04/01/2005</td>\n",
       "      <td>Tuesday</td>\n",
       "      <td>Daylight</td>\n",
       "      <td>1</td>\n",
       "      <td>1</td>\n",
       "      <td>0.0</td>\n",
       "      <td>1.0</td>\n",
       "      <td>Wet or damp</td>\n",
       "      <td>30</td>\n",
       "      <td>17:42</td>\n",
       "      <td>Raining no high winds</td>\n",
       "      <td>2005</td>\n",
       "    </tr>\n",
       "    <tr>\n",
       "      <th>1</th>\n",
       "      <td>200501BS00002</td>\n",
       "      <td>Slight</td>\n",
       "      <td>05/01/2005</td>\n",
       "      <td>Wednesday</td>\n",
       "      <td>Darkness - lights lit</td>\n",
       "      <td>1</td>\n",
       "      <td>1</td>\n",
       "      <td>0.0</td>\n",
       "      <td>5.0</td>\n",
       "      <td>Dry</td>\n",
       "      <td>30</td>\n",
       "      <td>17:36</td>\n",
       "      <td>Fine no high winds</td>\n",
       "      <td>2005</td>\n",
       "    </tr>\n",
       "    <tr>\n",
       "      <th>2</th>\n",
       "      <td>200501BS00003</td>\n",
       "      <td>Slight</td>\n",
       "      <td>06/01/2005</td>\n",
       "      <td>Thursday</td>\n",
       "      <td>Darkness - lights lit</td>\n",
       "      <td>1</td>\n",
       "      <td>2</td>\n",
       "      <td>0.0</td>\n",
       "      <td>0.0</td>\n",
       "      <td>Dry</td>\n",
       "      <td>30</td>\n",
       "      <td>0:15</td>\n",
       "      <td>Fine no high winds</td>\n",
       "      <td>2005</td>\n",
       "    </tr>\n",
       "    <tr>\n",
       "      <th>3</th>\n",
       "      <td>200501BS00004</td>\n",
       "      <td>Slight</td>\n",
       "      <td>07/01/2005</td>\n",
       "      <td>Friday</td>\n",
       "      <td>Daylight</td>\n",
       "      <td>1</td>\n",
       "      <td>1</td>\n",
       "      <td>0.0</td>\n",
       "      <td>0.0</td>\n",
       "      <td>Dry</td>\n",
       "      <td>30</td>\n",
       "      <td>10:35</td>\n",
       "      <td>Fine no high winds</td>\n",
       "      <td>2005</td>\n",
       "    </tr>\n",
       "    <tr>\n",
       "      <th>4</th>\n",
       "      <td>200501BS00005</td>\n",
       "      <td>Slight</td>\n",
       "      <td>10/01/2005</td>\n",
       "      <td>Monday</td>\n",
       "      <td>Darkness - lighting unknown</td>\n",
       "      <td>1</td>\n",
       "      <td>1</td>\n",
       "      <td>0.0</td>\n",
       "      <td>0.0</td>\n",
       "      <td>Wet or damp</td>\n",
       "      <td>30</td>\n",
       "      <td>21:13</td>\n",
       "      <td>Fine no high winds</td>\n",
       "      <td>2005</td>\n",
       "    </tr>\n",
       "  </tbody>\n",
       "</table>\n",
       "</div>"
      ],
      "text/plain": [
       "  Accident_Index Accident_Severity        Date Day_of_Week  \\\n",
       "0  200501BS00001           Serious  04/01/2005     Tuesday   \n",
       "1  200501BS00002            Slight  05/01/2005   Wednesday   \n",
       "2  200501BS00003            Slight  06/01/2005    Thursday   \n",
       "3  200501BS00004            Slight  07/01/2005      Friday   \n",
       "4  200501BS00005            Slight  10/01/2005      Monday   \n",
       "\n",
       "              Light_Conditions  Number_of_Casualties  Number_of_Vehicles  \\\n",
       "0                     Daylight                     1                   1   \n",
       "1        Darkness - lights lit                     1                   1   \n",
       "2        Darkness - lights lit                     1                   2   \n",
       "3                     Daylight                     1                   1   \n",
       "4  Darkness - lighting unknown                     1                   1   \n",
       "\n",
       "   Pedestrian_Crossing-Human_Control  Pedestrian_Crossing-Physical_Facilities  \\\n",
       "0                                0.0                                      1.0   \n",
       "1                                0.0                                      5.0   \n",
       "2                                0.0                                      0.0   \n",
       "3                                0.0                                      0.0   \n",
       "4                                0.0                                      0.0   \n",
       "\n",
       "  Road_Surface_Conditions  Speed_limit   Time     Weather_Conditions  Year  \n",
       "0             Wet or damp           30  17:42  Raining no high winds  2005  \n",
       "1                     Dry           30  17:36     Fine no high winds  2005  \n",
       "2                     Dry           30   0:15     Fine no high winds  2005  \n",
       "3                     Dry           30  10:35     Fine no high winds  2005  \n",
       "4             Wet or damp           30  21:13     Fine no high winds  2005  "
      ]
     },
     "execution_count": 3,
     "metadata": {},
     "output_type": "execute_result"
    }
   ],
   "source": [
    "# each row is an accident\n",
    "df.head()"
   ]
  },
  {
   "cell_type": "code",
   "execution_count": 4,
   "id": "ceb49b5e-8f30-43c8-a721-20fc99103dc0",
   "metadata": {},
   "outputs": [
    {
     "data": {
      "text/plain": [
       "Accident_Index                               0\n",
       "Accident_Severity                            0\n",
       "Date                                         0\n",
       "Day_of_Week                                  0\n",
       "Light_Conditions                             0\n",
       "Number_of_Casualties                         0\n",
       "Number_of_Vehicles                           0\n",
       "Pedestrian_Crossing-Human_Control           21\n",
       "Pedestrian_Crossing-Physical_Facilities     37\n",
       "Road_Surface_Conditions                      0\n",
       "Speed_limit                                  0\n",
       "Time                                       100\n",
       "Weather_Conditions                           0\n",
       "Year                                         0\n",
       "dtype: int64"
      ]
     },
     "execution_count": 4,
     "metadata": {},
     "output_type": "execute_result"
    }
   ],
   "source": [
    "# missing data?\n",
    "df.isnull().sum()"
   ]
  },
  {
   "cell_type": "code",
   "execution_count": 5,
   "id": "fca360de-0b39-4183-9c2c-4a8aa46682e7",
   "metadata": {},
   "outputs": [
    {
     "data": {
      "text/plain": [
       "['Accident_Index',\n",
       " 'Accident_Severity',\n",
       " 'Date',\n",
       " 'Day_of_Week',\n",
       " 'Light_Conditions',\n",
       " 'Number_of_Casualties',\n",
       " 'Number_of_Vehicles',\n",
       " 'Pedestrian_Crossing-Human_Control',\n",
       " 'Pedestrian_Crossing-Physical_Facilities',\n",
       " 'Road_Surface_Conditions',\n",
       " 'Speed_limit',\n",
       " 'Time',\n",
       " 'Weather_Conditions',\n",
       " 'Year']"
      ]
     },
     "execution_count": 5,
     "metadata": {},
     "output_type": "execute_result"
    }
   ],
   "source": [
    "# make a list of columns\n",
    "list_of_columns=list(df.columns)\n",
    "list_of_columns"
   ]
  },
  {
   "cell_type": "code",
   "execution_count": 7,
   "id": "fa62100c-0444-4954-88d0-c658f97f93ed",
   "metadata": {},
   "outputs": [
    {
     "data": {
      "text/plain": [
       "plotly.graph_objs._figure.Figure"
      ]
     },
     "execution_count": 7,
     "metadata": {},
     "output_type": "execute_result"
    }
   ],
   "source": [
    "# data objects\n",
    "go.Bar\n",
    "go.Scatter\n",
    "go.Pie\n",
    "go.Choropleth\n",
    "\n",
    "# figure objects\n",
    "go.Figure\n"
   ]
  },
  {
   "cell_type": "code",
   "execution_count": null,
   "id": "177f243b-67fc-4957-87a0-dbb15078c6db",
   "metadata": {},
   "outputs": [],
   "source": []
  }
 ],
 "metadata": {
  "kernelspec": {
   "display_name": "default:Python",
   "language": "python",
   "name": "conda-env-default-py"
  },
  "language_info": {
   "codemirror_mode": {
    "name": "ipython",
    "version": 3
   },
   "file_extension": ".py",
   "mimetype": "text/x-python",
   "name": "python",
   "nbconvert_exporter": "python",
   "pygments_lexer": "ipython3",
   "version": "3.9.13"
  }
 },
 "nbformat": 4,
 "nbformat_minor": 5
}
